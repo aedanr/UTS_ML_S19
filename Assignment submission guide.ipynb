{
  "nbformat": 4,
  "nbformat_minor": 0,
  "metadata": {
    "colab": {
      "name": "Untitled0.ipynb",
      "version": "0.3.2",
      "provenance": [],
      "include_colab_link": true
    },
    "kernelspec": {
      "name": "python3",
      "display_name": "Python 3"
    }
  },
  "cells": [
    {
      "cell_type": "markdown",
      "metadata": {
        "id": "view-in-github",
        "colab_type": "text"
      },
      "source": [
        "<a href=\"https://colab.research.google.com/github/aedanr/UTS_ML_S19/blob/master/Assignment%20submission%20guide.ipynb\" target=\"_parent\"><img src=\"https://colab.research.google.com/assets/colab-badge.svg\" alt=\"Open In Colab\"/></a>"
      ]
    },
    {
      "cell_type": "markdown",
      "metadata": {
        "id": "VKXhdx-zeysz",
        "colab_type": "text"
      },
      "source": [
        "# Structure of your Report and editing on Colab\n",
        "\n",
        "\n",
        "# Prepare git\n",
        "Account: If you haven't already, create an account on https://github.com/.\n",
        "\n",
        "Repo: understand it as a sub-folder belonging to your account, holding all files of a project. You need to create an account (if you haven't done so already) and create a new repo for your ML2019 assignments (if you haven't already).\n",
        "\n",
        "Here is a video on creating a repo: https://www.youtube.com/watch?v=LR5BYZjuXMU.\n",
        "\n",
        "# Save your Report to Github\n",
        "Here is a video that I made for help with saving your report to Github: https://youtu.be/rjrJv82hq14.\n",
        "\n",
        "# Editing using Markdown\n",
        "Text in Colab can be edited using Markdown, a simple and easy-to-use markup language. Here are some resources to help you edit your reports, and below them are some examples of formatting that you may want to use:\n",
        "\n",
        "Colab guide to markdown: https://colab.research.google.com/notebooks/markdown_guide.ipynb\n",
        "\n",
        "Syntax from the creator of Markdown: https://daringfireball.net/projects/markdown/syntax\n",
        "\n",
        "A guide to Markdown for Github: https://help.github.com/en/articles/basic-writing-and-formatting-syntax\n",
        "\n",
        "A general Markdown guide: https://www.markdownguide.org/\n",
        "\n",
        "There are a few basic commands that you are likely to find useful:\n",
        "\n",
        "## Sections\n",
        "\\#  at the beginning of a line for section headings\n",
        "\n",
        "\\## for sub-headings\n",
        "\n",
        "\\### for sub-sub-headings\n",
        "\n",
        "\\#### ....etc.\n",
        "\n",
        "## Highlights\n",
        "Surround text with \\**asterisks*\\* or \\__underscores_\\_ for italics, or \n",
        "\\*\\***double asterisks**\\** or \\_\\___double underscores__\\__ for bold. These can also be nested within each other, or you can use \\*\\*\\****triple asterisks for really really important stuff***\\*\\*\\*.\n",
        "\n",
        "## Quoting\n",
        "You can use indentation for quoted text using `>`\n",
        "> like this.\n",
        "\n",
        "You can surround text by \\``backticks`\\` to create monospace text for quoting code in line, or\n",
        "\n",
        "\\```\n",
        "```\n",
        "triple backticks\n",
        "for blocks of code.\n",
        "```\n",
        "\\```\n",
        "\n",
        "## Lists\n",
        "Simply typing a number followed by a full stop at the beginning of a line creates a numbered list:\n",
        "1. The first item\n",
        "2. The second item\n",
        "3. and so on.\n",
        "\n",
        "An unordered list can be created by beginning a line with\n",
        "* \\* an asterisk\n",
        "- \\- or a dash\n",
        "  - and two spaces before the \\* or \\- creates a nested list.\n",
        "\n",
        "## Links\n",
        "URLs are automatically turned into links, and \\[square brackets around text](followed by a link in parentheses) creates [linked text](https://github.com/junjy007/UTS_ML2019_Main).\n",
        "\n",
        "## Images\n",
        "You can use basic HTML to embed images from your repo, e.g.\n",
        "\n",
        "<\img src=\"https://github.com/aedanr/UTS_ML_S19/blob/master/kitten.jpg?raw=true\" width=\"100\"/>\n",
        "\n",
        "<img src=\"https://github.com/aedanr/UTS_ML_S19/blob/master/kitten.jpg?raw=true\" width=\"100\"/>\n",
        "\n",
        "![alt text](https://github.com/aedanr/UTS_ML_S19/blob/master/kitten.jpg?raw=true \"Oh look a kitten\")\n",
        "\n",
        "## Tables\n",
        "\n",
        "\n",
        "\n",
        "\n"
      ]
    }
  ]
}
